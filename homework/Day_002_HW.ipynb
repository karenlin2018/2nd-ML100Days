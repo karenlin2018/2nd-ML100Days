{
 "cells": [
  {
   "cell_type": "markdown",
   "metadata": {
    "colab_type": "text",
    "id": "zbk_hs0AK60s"
   },
   "source": [
    "## 練習時間\n",
    "資料的操作有很多，接下來的馬拉松中我們會介紹常被使用到的操作，參加者不妨先自行想像一下，第一次看到資料，我們一般會想知道什麼訊息？\n",
    "\n",
    "#### Ex: 如何知道資料的 row 數以及 column 數、有什麼欄位、多少欄位、如何截取部分的資料等等\n",
    "\n",
    "有了對資料的好奇之後，我們又怎麼通過程式碼來達成我們的目的呢？\n",
    "\n",
    "#### 可參考該[基礎教材](https://bookdata.readthedocs.io/en/latest/base/01_pandas.html#DataFrame-%E5%85%A5%E9%97%A8)或自行 google"
   ]
  },
  {
   "cell_type": "code",
   "execution_count": 1,
   "metadata": {
    "colab": {},
    "colab_type": "code",
    "collapsed": true,
    "id": "UILfaAzIK60u"
   },
   "outputs": [],
   "source": [
    "import os\n",
    "import numpy as np\n",
    "import pandas as pd"
   ]
  },
  {
   "cell_type": "code",
   "execution_count": 2,
   "metadata": {
    "colab": {},
    "colab_type": "code",
    "collapsed": true,
    "id": "Y98h2tJzK60y"
   },
   "outputs": [],
   "source": [
    "# 設定 data_path\n",
    "dir_data = './data/'"
   ]
  },
  {
   "cell_type": "code",
   "execution_count": 3,
   "metadata": {
    "colab": {},
    "colab_type": "code",
    "id": "sz1VOD8VK602"
   },
   "outputs": [
    {
     "name": "stdout",
     "output_type": "stream",
     "text": [
      "Path of read in data: ./data/application_train.csv\n"
     ]
    }
   ],
   "source": [
    "f_app = os.path.join(dir_data, 'application_train.csv')\n",
    "print('Path of read in data: %s' % (f_app))\n",
    "app_train = pd.read_csv(f_app)"
   ]
  },
  {
   "cell_type": "markdown",
   "metadata": {
    "colab_type": "text",
    "id": "zH2ZrSKgK61A"
   },
   "source": [
    "### 如果沒有想法，可以先嘗試找出剛剛例子中提到的問題的答案\n",
    "#### 資料的 row 數以及 column 數"
   ]
  },
  {
   "cell_type": "code",
   "execution_count": 9,
   "metadata": {
    "colab": {},
    "colab_type": "code",
    "id": "P439ZQZlK61B"
   },
   "outputs": [
    {
     "name": "stdout",
     "output_type": "stream",
     "text": [
      "(307511, 122)\n"
     ]
    }
   ],
   "source": [
    "print(app_train.shape)"
   ]
  },
  {
   "cell_type": "markdown",
   "metadata": {
    "colab_type": "text",
    "id": "VyuDiDQFK61F"
   },
   "source": [
    "#### 列出所有欄位"
   ]
  },
  {
   "cell_type": "code",
   "execution_count": 6,
   "metadata": {
    "colab": {},
    "colab_type": "code",
    "id": "Qj6Z4I1LK61H"
   },
   "outputs": [
    {
     "name": "stdout",
     "output_type": "stream",
     "text": [
      "Index(['SK_ID_CURR', 'TARGET', 'NAME_CONTRACT_TYPE', 'CODE_GENDER',\n",
      "       'FLAG_OWN_CAR', 'FLAG_OWN_REALTY', 'CNT_CHILDREN', 'AMT_INCOME_TOTAL',\n",
      "       'AMT_CREDIT', 'AMT_ANNUITY',\n",
      "       ...\n",
      "       'FLAG_DOCUMENT_18', 'FLAG_DOCUMENT_19', 'FLAG_DOCUMENT_20',\n",
      "       'FLAG_DOCUMENT_21', 'AMT_REQ_CREDIT_BUREAU_HOUR',\n",
      "       'AMT_REQ_CREDIT_BUREAU_DAY', 'AMT_REQ_CREDIT_BUREAU_WEEK',\n",
      "       'AMT_REQ_CREDIT_BUREAU_MON', 'AMT_REQ_CREDIT_BUREAU_QRT',\n",
      "       'AMT_REQ_CREDIT_BUREAU_YEAR'],\n",
      "      dtype='object', length=122)\n"
     ]
    }
   ],
   "source": [
    "print(app_train.columns)"
   ]
  },
  {
   "cell_type": "markdown",
   "metadata": {
    "colab_type": "text",
    "id": "q3CxExnYK61M"
   },
   "source": [
    "#### 截取部分資料"
   ]
  },
  {
   "cell_type": "code",
   "execution_count": 18,
   "metadata": {
    "colab": {},
    "colab_type": "code",
    "id": "7xtwODhvK61N"
   },
   "outputs": [
    {
     "name": "stdout",
     "output_type": "stream",
     "text": [
      "        SK_ID_CURR\n",
      "0           100002\n",
      "1           100003\n",
      "2           100004\n",
      "3           100006\n",
      "4           100007\n",
      "5           100008\n",
      "6           100009\n",
      "7           100010\n",
      "8           100011\n",
      "9           100012\n",
      "10          100014\n",
      "11          100015\n",
      "12          100016\n",
      "13          100017\n",
      "14          100018\n",
      "15          100019\n",
      "16          100020\n",
      "17          100021\n",
      "18          100022\n",
      "19          100023\n",
      "20          100024\n",
      "21          100025\n",
      "22          100026\n",
      "23          100027\n",
      "24          100029\n",
      "25          100030\n",
      "26          100031\n",
      "27          100032\n",
      "28          100033\n",
      "29          100034\n",
      "...            ...\n",
      "307481      456225\n",
      "307482      456226\n",
      "307483      456227\n",
      "307484      456228\n",
      "307485      456229\n",
      "307486      456230\n",
      "307487      456231\n",
      "307488      456232\n",
      "307489      456233\n",
      "307490      456234\n",
      "307491      456235\n",
      "307492      456236\n",
      "307493      456237\n",
      "307494      456238\n",
      "307495      456239\n",
      "307496      456240\n",
      "307497      456241\n",
      "307498      456242\n",
      "307499      456243\n",
      "307500      456244\n",
      "307501      456245\n",
      "307502      456246\n",
      "307503      456247\n",
      "307504      456248\n",
      "307505      456249\n",
      "307506      456251\n",
      "307507      456252\n",
      "307508      456253\n",
      "307509      456254\n",
      "307510      456255\n",
      "\n",
      "[307511 rows x 1 columns]\n"
     ]
    }
   ],
   "source": [
    "print(app_train.iloc[:,0:1])"
   ]
  },
  {
   "cell_type": "markdown",
   "metadata": {
    "colab_type": "text",
    "id": "spM-7kEJK61R"
   },
   "source": [
    "#### 還有各種數之不盡的資料操作，重點還是取決於實務中遇到的狀況和你想問的問題，在馬拉松中我們也會陸續提到更多例子"
   ]
  },
  {
   "cell_type": "code",
   "execution_count": 0,
   "metadata": {
    "colab": {},
    "colab_type": "code",
    "collapsed": true,
    "id": "QhakA8EUK61S"
   },
   "outputs": [],
   "source": []
  }
 ],
 "metadata": {
  "colab": {
   "name": "Day_002_HW.ipynb",
   "provenance": [],
   "version": "0.3.2"
  },
  "kernelspec": {
   "display_name": "Python 3",
   "language": "python",
   "name": "python3"
  },
  "language_info": {
   "codemirror_mode": {
    "name": "ipython",
    "version": 3
   },
   "file_extension": ".py",
   "mimetype": "text/x-python",
   "name": "python",
   "nbconvert_exporter": "python",
   "pygments_lexer": "ipython3",
   "version": "3.6.1"
  }
 },
 "nbformat": 4,
 "nbformat_minor": 1
}
